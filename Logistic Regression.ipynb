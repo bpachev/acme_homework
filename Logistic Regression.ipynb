{
 "cells": [
  {
   "cell_type": "markdown",
   "metadata": {},
   "source": [
    "We first load in the titanic dataset using pandas, and fill in NaN values with the median of the corresponding data."
   ]
  },
  {
   "cell_type": "code",
   "execution_count": 2,
   "metadata": {
    "collapsed": false
   },
   "outputs": [],
   "source": [
    "import sklearn\n",
    "import pandas as pd\n",
    "import numpy as np\n",
    "titanicData = pd.read_csv(\"titanic4real.csv\")\n",
    "\n",
    "def cleanupTitanic(titanicData, changePclass=False):\n",
    "    \"\"\"Returns: X -- features, y--labels\"\"\"\n",
    "    categorical_features = ['Sex']\n",
    "    num_features = ['Fare', 'Age']\n",
    "    if changePclass:\n",
    "        categorical_features.append('Pclass')\n",
    "    else:\n",
    "        num_features.append('Pclass')\n",
    "    \n",
    "    labelName = 'Survived'\n",
    "    for feature in num_features:\n",
    "        titanicData[feature] = titanicData[feature].fillna(titanicData[feature].median())\n",
    "    y = titanicData[labelName].as_matrix()\n",
    "    \n",
    "    X = titanicData[num_features].as_matrix()\n",
    "    for feature in categorical_features:\n",
    "        X = np.hstack([X, pd.get_dummies(titanicData[feature]).as_matrix()])\n",
    "    #all who did not survive died\n",
    "    y[y!=1] = 0\n",
    "    return X, y\n",
    "\n",
    "features, labels = cleanupTitanic(titanicData)\n",
    "changed_features = cleanupTitanic(titanicData, changePclass=True)[0]"
   ]
  },
  {
   "cell_type": "markdown",
   "metadata": {
    "collapsed": true
   },
   "source": [
    "Having created two sets of features -- those with pclass as a single feature and broken down into into multiple features, we seek to determine which feature representation allows for better learning. In the below code we divide the dataset into training and testing sets, using a 60-40 split."
   ]
  },
  {
   "cell_type": "code",
   "execution_count": 13,
   "metadata": {
    "collapsed": false
   },
   "outputs": [],
   "source": [
    "from sklearn.linear_model import LogisticRegression\n",
    "from sklearn.naive_bayes import MultinomialNB\n",
    "\n",
    "npoints = features.shape[0]\n",
    "ntrain = int(.6*npoints)\n",
    "inds = np.arange(npoints)\n",
    "np.random.shuffle(inds)\n",
    "train_mask = inds[:ntrain]\n",
    "test_mask = inds[ntrain:]"
   ]
  },
  {
   "cell_type": "markdown",
   "metadata": {},
   "source": [
    "We now traing 4 different models, selecting optimal parameters for each, and then compare results. (Spoiler Alert: Logistic Regression wins.)"
   ]
  },
  {
   "cell_type": "code",
   "execution_count": 31,
   "metadata": {
    "collapsed": false
   },
   "outputs": [
    {
     "name": "stdout",
     "output_type": "stream",
     "text": [
      "Logistic Regression\n"
     ]
    },
    {
     "data": {
      "image/png": "[encoded data removed]",
      "text/plain": [
       "<matplotlib.figure.Figure at 0x7f347853d990>"
      ]
     },
     "metadata": {},
     "output_type": "display_data"
    },
    {
     "name": "stdout",
     "output_type": "stream",
     "text": [
      "AUC Score: 0.830208 \n",
      "Changed Logistic Regression\n"
     ]
    },
    {
     "data": {
      "image/png": "[encoded data removed]",
      "text/plain": [
       "<matplotlib.figure.Figure at 0x7f34783f7390>"
      ]
     },
     "metadata": {},
     "output_type": "display_data"
    },
    {
     "name": "stdout",
     "output_type": "stream",
     "text": [
      "AUC Score: 0.830162 \n",
      "Naive Bayes\n"
     ]
    },
    {
     "data": {
      "image/png": "[encoded data removed]",
      "text/plain": [
       "<matplotlib.figure.Figure at 0x7f3478307250>"
      ]
     },
     "metadata": {},
     "output_type": "display_data"
    },
    {
     "name": "stdout",
     "output_type": "stream",
     "text": [
      "AUC Score: 0.761198 \n",
      "Modified Naive Bayes\n"
     ]
    },
    {
     "data": {
      "image/png": "[encoded data removed]",
      "text/plain": [
       "<matplotlib.figure.Figure at 0x7f34783ea650>"
      ]
     },
     "metadata": {},
     "output_type": "display_data"
    },
    {
     "name": "stdout",
     "output_type": "stream",
     "text": [
      "AUC Score: 0.761527 \n"
     ]
    }
   ],
   "source": [
    "import matplotlib.pyplot as plt\n",
    "from sklearn.metrics import roc_curve, auc, roc_auc_score\n",
    "%matplotlib inline\n",
    "\n",
    "def show_results(model, train, test, train_labels, test_labels):\n",
    "    model.fit(train, train_labels)\n",
    "    probs = model.predict_proba(test)[:,1]\n",
    "    fpr, tpr, taus = roc_curve(test_labels, probs, pos_label=1)\n",
    "    plt.plot(fpr, tpr)\n",
    "    plt.title(\"Roc Curve\")\n",
    "    plt.show()\n",
    "    print \"AUC Score: %f \" % auc(fpr, tpr)\n",
    "\n",
    "def best_C(train, test, train_labels, test_labels, nchoices=10):\n",
    "    bestC=None\n",
    "    bestScore=-np.inf\n",
    "    for c in np.linspace(0.1,1,nchoices):\n",
    "        model = LogisticRegression(C=c)\n",
    "        model.fit(train, train_labels)\n",
    "        probs = model.predict_proba(test)[:,1]\n",
    "        score = roc_auc_score(test_labels, probs)\n",
    "        if score > bestScore:\n",
    "            bestScore = score\n",
    "            bestC = c\n",
    "    return bestC\n",
    "\n",
    "def best_alpha(train, test, train_labels, test_labels, nchoices=10):\n",
    "    bestAlpha=None\n",
    "    bestScore=-np.inf\n",
    "    for alpha in np.linspace(0.1,1,nchoices):\n",
    "        model = MultinomialNB(alpha=alpha)\n",
    "        model.fit(train, train_labels)\n",
    "        probs = model.predict_proba(test)[:,1]\n",
    "        score = roc_auc_score(test_labels, probs)\n",
    "        if score > bestScore:\n",
    "            bestScore = score\n",
    "            bestAlpha = alpha\n",
    "    return bestAlpha\n",
    "\n",
    "\n",
    "#determine best params\n",
    "C1 = best_C(features[train_mask], features[test_mask], labels[train_mask], labels[test_mask])\n",
    "C2 = best_C(changed_features[train_mask], changed_features[test_mask], labels[train_mask], labels[test_mask])\n",
    "alpha1 = best_alpha(features[train_mask], features[test_mask], labels[train_mask], labels[test_mask])\n",
    "alpha2 = best_alpha(changed_features[train_mask], changed_features[test_mask], labels[train_mask], labels[test_mask])\n",
    "\n",
    "logreg = LogisticRegression(C=C1)\n",
    "logreg_changed = LogisticRegression(C=C2)\n",
    "bayes = MultinomialNB(alpha=alpha1)\n",
    "bayes_changed = MultinomialNB(alpha=alpha2)\n",
    "print \"Logistic Regression\"\n",
    "show_results(logreg, features[train_mask], features[test_mask], labels[train_mask], labels[test_mask])\n",
    "print \"Changed Logistic Regression\"\n",
    "show_results(logreg_changed, changed_features[train_mask], changed_features[test_mask], labels[train_mask], labels[test_mask])\n",
    "print \"Naive Bayes\"\n",
    "show_results(bayes, features[train_mask], features[test_mask], labels[train_mask], labels[test_mask])\n",
    "print \"Modified Naive Bayes\"\n",
    "show_results(bayes_changed, changed_features[train_mask], changed_features[test_mask], labels[train_mask], labels[test_mask])\n"
   ]
  },
  {
   "cell_type": "markdown",
   "metadata": {},
   "source": [
    "With optimal parameter choices, Bayes benefits slightly from the dummy coding, while Logistic Regression is unaffected."
   ]
  },
  {
   "cell_type": "code",
   "execution_count": null,
   "metadata": {
    "collapsed": true
   },
   "outputs": [],
   "source": []
  }
 ],
 "metadata": {
  "kernelspec": {
   "display_name": "Python 2",
   "language": "python",
   "name": "python2"
  },
  "language_info": {
   "codemirror_mode": {
    "name": "ipython",
    "version": 2
   },
   "file_extension": ".py",
   "mimetype": "text/x-python",
   "name": "python",
   "nbconvert_exporter": "python",
   "pygments_lexer": "ipython2",
   "version": "2.7.6"
  }
 },
 "nbformat": 4,
 "nbformat_minor": 0
}
