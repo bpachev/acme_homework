{
 "cells": [
  {
   "cell_type": "code",
   "execution_count": 77,
   "metadata": {
    "collapsed": false
   },
   "outputs": [],
   "source": [
    "import numpy as np\n",
    "seed_data = np.loadtxt(\"seeds_dataset.txt\")\n",
    "np.random.shuffle(seed_data)"
   ]
  },
  {
   "cell_type": "code",
   "execution_count": 86,
   "metadata": {
    "collapsed": false
   },
   "outputs": [
    {
     "name": "stdout",
     "output_type": "stream",
     "text": [
      "Accuracy on test data: 0.875000 \n"
     ]
    }
   ],
   "source": [
    "class gaussianBayes():\n",
    "    def __init__(self, train_data, train_labels):\n",
    "        train_labels = train_labels.astype(int)\n",
    "        self.classes = np.unique(train_labels)\n",
    "        self.nclasses = self.classes.size\n",
    "        self.nfeatures = train_data.shape[1]\n",
    "        self.means = np.zeros((self.nclasses, self.nfeatures))\n",
    "        self.variances = np.zeros((self.nclasses, self.nfeatures))\n",
    "        self.probs = np.zeros(self.nclasses)\n",
    "        for i in xrange(self.nclasses):\n",
    "            mask = train_data[train_labels==self.classes[i]]\n",
    "            self.means[i,:] = np.mean(mask, axis=0)\n",
    "            self.variances[i,:] = np.var(mask, axis=0)\n",
    "            self.probs[i] = mask.shape[0]/float(train_labels.shape[0])\n",
    "\n",
    "            \n",
    "    def predict(self, test_data):\n",
    "        log_probs = np.zeros((test_data.shape[0], self.nclasses))\n",
    "        log_probs += np.log(self.probs)\n",
    "        for c in xrange(self.nclasses):\n",
    "            for f in xrange(self.nfeatures):\n",
    "                mu = self.means[c, f]\n",
    "                var = self.variances[c,f]\n",
    "                x = test_data[:,f]\n",
    "                #gaussian log density function\n",
    "                log_probs[:,c] += - (x-mu)**2/(2*var) - .5 * np.log(2*np.pi*var)\n",
    "        self.log_probs = log_probs\n",
    "        return self.classes[np.argmax(log_probs, axis=1)]\n",
    "    \n",
    "    def validate(self, test_data, test_labels):\n",
    "        return np.sum(self.predict(test_data)==test_labels)/float(test_labels.size)\n",
    "\n",
    "def seed_features_and_labels(data):\n",
    "    return data[:,:-1], data[:,-1]\n",
    "train_features, train_labels = seed_features_and_labels(seed_data[40:,:])\n",
    "test_features, test_labels = seed_features_and_labels(seed_data[:40,:])\n",
    "gb = gaussianBayes(train_features, train_labels)\n",
    "print \"Accuracy on test data: %f \" % gb.validate(test_features,test_labels)"
   ]
  },
  {
   "cell_type": "code",
   "execution_count": 89,
   "metadata": {
    "collapsed": false
   },
   "outputs": [
    {
     "name": "stdout",
     "output_type": "stream",
     "text": [
      "Sklearn Accuracy 0.875000 \n"
     ]
    }
   ],
   "source": [
    "from sklearn.naive_bayes import GaussianNB\n",
    "nb_classifier = GaussianNB()\n",
    "nb_classifier.fit(train_features, train_labels)\n",
    "print \"Sklearn Accuracy %f \" % nb_classifier.score(test_features, test_labels)"
   ]
  },
  {
   "cell_type": "code",
   "execution_count": 98,
   "metadata": {
    "collapsed": false
   },
   "outputs": [],
   "source": [
    "class multi_bayes():\n",
    "    def __init__(self):\n",
    "        self.class_probs = None\n",
    "        self.nclass = None\n",
    "        self.feature_probs = None\n",
    "    \n",
    "    def fit(self, features, labels):\n",
    "        self.classes = np.unique(labels)\n",
    "        self.nclasses = len(self.classes)\n",
    "        self.class_probs = np.zeros(self.nclasses)\n",
    "        self.nfeatures = features.shape[1]\n",
    "        self.feature_probs = np.zeros((self.nclasses, self.nfeatures))\n",
    "        for i in xrange(self.nclasses):\n",
    "            mask = labels == self.classes[i]\n",
    "            total = np.sum(mask)\n",
    "            self.class_probs[i] = total / float(len(labels))\n",
    "            self.feature_probs[i,:] = (np.sum(features[mask], axis=0)+1) / float(total+1)\n",
    "        \n",
    "    \n",
    "    def predict(self, features):\n",
    "        npoints = features.shape[0]\n",
    "        log_probs = np.zeros((npoints, self.nclasses))\n",
    "        log_probs += np.log(self.class_probs)\n",
    "        features = features.astype(int)\n",
    "        for i in xrange(features.shape[0]):\n",
    "            for c in xrange(self.nclasses):\n",
    "                log_probs[i, c] += features[i].dot(np.log(self.feature_probs[c]))\n",
    "              \n",
    "        return self.classes[np.argmax(log_probs, axis=1)]"
   ]
  },
  {
   "cell_type": "code",
   "execution_count": 117,
   "metadata": {
    "collapsed": false
   },
   "outputs": [],
   "source": [
    "spamArch = np.load(\"spam.npz\")\n",
    "spamLabels = spamArch['labels']\n",
    "spamFeatures = spamArch['features']"
   ]
  },
  {
   "cell_type": "code",
   "execution_count": 118,
   "metadata": {
    "collapsed": true
   },
   "outputs": [],
   "source": [
    "mb = multi_bayes()\n",
    "npoints = len(spamLabels)\n",
    "random_mask = np.arange(npoints)\n",
    "test_mask = random_mask[:500]\n",
    "train_mask = random_mask[500:]\n",
    "strainf, strainl = spamFeatures[train_mask], spamLabels[train_mask]\n",
    "stestf, stestl = spamFeatures[test_mask], spamLabels[test_mask]"
   ]
  },
  {
   "cell_type": "code",
   "execution_count": 119,
   "metadata": {
    "collapsed": true
   },
   "outputs": [],
   "source": [
    "mb.fit(strainf, strainl)"
   ]
  },
  {
   "cell_type": "code",
   "execution_count": 121,
   "metadata": {
    "collapsed": false
   },
   "outputs": [],
   "source": [
    "pLabels = mb.predict(stestf)"
   ]
  },
  {
   "cell_type": "code",
   "execution_count": 124,
   "metadata": {
    "collapsed": false
   },
   "outputs": [
    {
     "name": "stdout",
     "output_type": "stream",
     "text": [
      "Accuracy on Spam Data 0.932000\n"
     ]
    }
   ],
   "source": [
    "print \"Accuracy on Spam Data %f\" % (np.sum(pLabels==stestl)/500.)"
   ]
  },
  {
   "cell_type": "code",
   "execution_count": null,
   "metadata": {
    "collapsed": true
   },
   "outputs": [],
   "source": []
  }
 ],
 "metadata": {
  "kernelspec": {
   "display_name": "Python 2",
   "language": "python",
   "name": "python2"
  },
  "language_info": {
   "codemirror_mode": {
    "name": "ipython",
    "version": 2
   },
   "file_extension": ".py",
   "mimetype": "text/x-python",
   "name": "python",
   "nbconvert_exporter": "python",
   "pygments_lexer": "ipython2",
   "version": "2.7.6"
  }
 },
 "nbformat": 4,
 "nbformat_minor": 0
}
