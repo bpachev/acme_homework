{
 "cells": [
  {
   "cell_type": "markdown",
   "metadata": {},
   "source": [
    "We begin by writing a naive KNN classifier."
   ]
  },
  {
   "cell_type": "code",
   "execution_count": 24,
   "metadata": {
    "collapsed": false
   },
   "outputs": [],
   "source": [
    "import numpy as np\n",
    "from scipy.stats import mode\n",
    "\n",
    "class KNN:\n",
    "    def __init__(self, features, labels):\n",
    "        self.features = features\n",
    "        self.labels = labels\n",
    "    \n",
    "    def classify(self, k, point):\n",
    "        dists = np.sum((self.features - point)**2, axis=1)\n",
    "        neighbor_inds = np.argsort(dists)[:min(k, len(dists))]\n",
    "        neighbor_labels = self.labels[neighbor_inds]\n",
    "        return mode(neighbor_labels)[0][0]\n",
    "        \n",
    "    def classify_arr(self, k, points):\n",
    "        npoints = points.shape[0]\n",
    "        res = np.zeros(npoints, dtype=self.labels.dtype)\n",
    "        for i in xrange(npoints):\n",
    "            res[i] = self.classify(k, points[i])\n",
    "        return res.astype(self.labels.dtype)\n",
    "    \n"
   ]
  },
  {
   "cell_type": "markdown",
   "metadata": {},
   "source": [
    "We evaluate the performance of the classifier on the iris dataset."
   ]
  },
  {
   "cell_type": "code",
   "execution_count": 27,
   "metadata": {
    "collapsed": false
   },
   "outputs": [
    {
     "name": "stdout",
     "output_type": "stream",
     "text": [
      "KNN Accuracy on Iris Dataset 0.950000\n"
     ]
    }
   ],
   "source": [
    "from sklearn.datasets import load_iris\n",
    "iris = load_iris()\n",
    "\n",
    "features = iris['data']\n",
    "labels = iris['target']\n",
    "\n",
    "def split_data(features, labels, split_factor=.6):\n",
    "    npoints = len(labels)\n",
    "    cutoff = int(npoints*split_factor)\n",
    "    mask = np.arange(npoints)\n",
    "    np.random.shuffle(mask)\n",
    "    train_mask = mask[:cutoff]\n",
    "    test_mask = mask[cutoff:]\n",
    "    return features[train_mask], labels[train_mask], features[test_mask], labels[test_mask]\n",
    "\n",
    "trainf, trainl, testf, testl = split_data(features, labels)\n",
    "kmodel = KNN(trainf, trainl)\n",
    "print \"KNN Accuracy on Iris Dataset %f\" % (np.sum(kmodel.classify_arr(2, testf) == testl)/float(len(testl)))"
   ]
  },
  {
   "cell_type": "markdown",
   "metadata": {},
   "source": [
    "Now that we've destroyed the Iris dataset with KNN, we move onto harder stuff: SVM's and tumor classification."
   ]
  },
  {
   "cell_type": "code",
   "execution_count": 56,
   "metadata": {
    "collapsed": true
   },
   "outputs": [],
   "source": [
    "import cvxopt\n",
    "from cvxopt.solvers import qp\n",
    "\n",
    "def solve_SVM(kernel, X, Y):\n",
    "    n_samples = len(Y)\n",
    "    K = np.zeros((n_samples,n_samples))\n",
    "    for i in xrange(n_samples):\n",
    "        for j in xrange(n_samples):\n",
    "            K[i,j] = kernel(X[i,:], X[j,:])\n",
    "    Q = cvxopt.matrix(np.outer(Y, Y) * K)\n",
    "    q = cvxopt.matrix(np.ones(n_samples) * -1)\n",
    "    A = cvxopt.matrix(Y, (1, n_samples))\n",
    "    b = cvxopt.matrix(0.0)\n",
    "    G = cvxopt.matrix(np.diag(np.ones(n_samples) * -1))\n",
    "    h = cvxopt.matrix(np.zeros(n_samples))\n",
    "    solution = qp(Q, q, G, h, A, b)\n",
    "    return np.ravel(solution['x'])\n",
    "\n",
    "class SVM:\n",
    "    def __init__(self, X, Y):\n",
    "        self.X = X\n",
    "        self.Y = Y\n",
    "        self.kernel = None\n",
    "        self.a = None\n",
    "    \n",
    "    def setKernel(self, kernel):\n",
    "        self.kernel = kernel\n",
    "        \n",
    "    def train(self):\n",
    "        self.a = solve_SVM(kernel, self.X, self.Y)\n",
    "    \n",
    "    def classify_arr(self, X):\n",
    "        npoints = X.shape[0]\n",
    "        res = np.zeros(npoints)\n",
    "        for i in xrange(npoints):\n",
    "            res[i] = self.classify(X[i])\n",
    "        return res\n",
    "        \n",
    "        \n",
    "    def classify(self, x):\n",
    "        npoints = len(self.Y)\n",
    "        tot = 0\n",
    "        for i in xrange(npoints):\n",
    "            tot += self.Y[i] * self.a[i] * self.kernel(x, self.X[i])\n",
    "        if tot > 0: return 1\n",
    "        else: return -1\n",
    "        \n"
   ]
  },
  {
   "cell_type": "markdown",
   "metadata": {},
   "source": [
    "We now load in the cancer tumor dataset 'provided' for this lab."
   ]
  },
  {
   "cell_type": "code",
   "execution_count": 57,
   "metadata": {
    "collapsed": false
   },
   "outputs": [
    {
     "data": {
      "text/plain": [
       "Index([u'Unnamed: 0', u'clump-thickness', u'uniformity-of-cell-size', u'uniformity-of-cell-shape', u'marginal-adhesion', u'single-epithelial-cell-size', u'bare-nuclei', u'bland-chromatin', u'normal-nucleoli', u'mitoses', u'cancerous'], dtype='object')"
      ]
     },
     "execution_count": 57,
     "metadata": {},
     "output_type": "execute_result"
    }
   ],
   "source": [
    "import pandas as pd\n",
    "cancer_data = pd.read_csv(\"cancer.csv\")\n",
    "#for col in cancer_data.columns: print col, cancer_data[col].dtype\n",
    "cancer_data['bare-nuclei'] = cancer_data['bare-nuclei'].convert_objects(convert_numeric=True)\n",
    "cancer_data['bare-nuclei'] = cancer_data['bare-nuclei'].fillna(cancer_data['bare-nuclei'].median())\n",
    "raw_mat = cancer_data.as_matrix()\n",
    "X = raw_mat[:,1:-1]\n",
    "Y = raw_mat[:,-1]\n",
    "cancer_data.columns"
   ]
  },
  {
   "cell_type": "code",
   "execution_count": 86,
   "metadata": {
    "collapsed": false
   },
   "outputs": [],
   "source": [
    "from numpy.linalg import norm\n",
    "trainX, trainY, testX, testY = split_data(X,Y)\n",
    "SVM_model = SVM(trainX, trainY)\n",
    "\n",
    "cvxopt.solvers.options['show_progress']=False"
   ]
  },
  {
   "cell_type": "code",
   "execution_count": 87,
   "metadata": {
    "collapsed": false
   },
   "outputs": [
    {
     "name": "stdout",
     "output_type": "stream",
     "text": [
      "SVM with kernel gaussian, gamma=0.400000 gets an accuracy of 0.950000\n"
     ]
    }
   ],
   "source": [
    "def test_svm(kernel, kernel_name):\n",
    "    SVM_model.setKernel(kernel)\n",
    "    SVM_model.train()\n",
    "    acc = np.sum(SVM_model.classify_arr(testX) == testY)/float(len(testY))\n",
    "    print \"SVM with kernel \"+ kernel_name+\" gets an accuracy of %f\" % (acc)\n",
    "\n",
    "gam = .4\n",
    "kernel = lambda x, y: np.exp(- gam * norm(x-y)**2)\n",
    "test_svm(kernel, \"gaussian, gamma=%f\"%gam)\n"
   ]
  },
  {
   "cell_type": "code",
   "execution_count": 88,
   "metadata": {
    "collapsed": false
   },
   "outputs": [
    {
     "name": "stdout",
     "output_type": "stream",
     "text": [
      "SVM with kernel polynomial, a=-10.000000, d=-1.500000 gets an accuracy of 0.653571\n"
     ]
    }
   ],
   "source": [
    "a = -10\n",
    "d = -1.5\n",
    "test_svm(lambda x , y: (x.dot(y) +a)**d , \"polynomial, a=%f, d=%f\"%(a,d))"
   ]
  },
  {
   "cell_type": "code",
   "execution_count": 89,
   "metadata": {
    "collapsed": false
   },
   "outputs": [
    {
     "name": "stdout",
     "output_type": "stream",
     "text": [
      "SVM with kernel sigmoid, r=-24.000000 gets an accuracy of 0.935714\n"
     ]
    }
   ],
   "source": [
    "from math import tanh\n",
    "r = -24\n",
    "test_svm(lambda x,y : -tanh(x.dot(y) + r), \"sigmoid, r=%f\"%r)"
   ]
  },
  {
   "cell_type": "markdown",
   "metadata": {},
   "source": [
    "After tuning of parameters, I get 90%+ accuracy with sigmoid and gaussian kernels. However, the polynomial kernel only yields 60-70% accuracy."
   ]
  },
  {
   "cell_type": "code",
   "execution_count": 98,
   "metadata": {
    "collapsed": false
   },
   "outputs": [
    {
     "name": "stdout",
     "output_type": "stream",
     "text": [
      "KNN accuracy with k= 3: 0.967857 \n"
     ]
    }
   ],
   "source": [
    "knn_model = KNN(trainX, trainY)\n",
    "k=3\n",
    "print \"KNN accuracy with k= %d: %f \" % (k, np.sum(testY==knn_model.classify_arr(k, testX))/float(len(testY)))"
   ]
  },
  {
   "cell_type": "markdown",
   "metadata": {},
   "source": [
    "Interestingly, KNN acheives better accuracy than all of the SVM methods on this dataset!"
   ]
  }
 ],
 "metadata": {
  "kernelspec": {
   "display_name": "Python 2",
   "language": "python",
   "name": "python2"
  },
  "language_info": {
   "codemirror_mode": {
    "name": "ipython",
    "version": 2
   },
   "file_extension": ".py",
   "mimetype": "text/x-python",
   "name": "python",
   "nbconvert_exporter": "python",
   "pygments_lexer": "ipython2",
   "version": "2.7.6"
  }
 },
 "nbformat": 4,
 "nbformat_minor": 0
}
