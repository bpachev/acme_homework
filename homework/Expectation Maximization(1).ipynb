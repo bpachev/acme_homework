{
 "cells": [
  {
   "cell_type": "markdown",
   "metadata": {},
   "source": [
    "  The purpose of this notebook is to present programming solutions to two parameter estimation problems using Expectation Maximization. It will focus on code and results, with some discussion of the underlying mathematics.<br/>\n",
    "  The first problem we will tackle is the three coin problem. Consider three wieghted coins, with unknown weights l, p, and q. The first coin is flipped. If it is heads, the second coin is flipped three times; otherwise the third coin is flipped three times. Given only the result of flipping the second or third coin three times, and not the result of flipping the first coin, we would like to estimate the weights of all three coins. Supposing this process is repeated many times, sample output could look like this:<br/>\n",
    "  TTT<br/>\n",
    "  HTH<br/>\n",
    "  THH<br/>\n",
    "  HTT<br/>\n",
    "  ...<br/>\n",
    "  HHH<br/>\n",
    "  HTT<br/>\n",
    "  The issue is that we do not know which coin produced which output. Solving this problem requires a degree of mathematical sophistication. First, we introduce some notation.<br/> <br/>\n",
    "  Suppose we have the results of n trials. Let $x_i$ denote the number of heads observed in the n-th trial. Let $\\theta = (l, p, q)$ denote the parameters of the coins. We seek to find the parameters that maximize the likelihood of observing the data. We then seek $$\\theta_{best} = argmax_{\\theta} \\prod_{i=1}^{i=n}P(x_i|\\theta)$$\n",
    "  \n",
    "  After taking logs, and applying the famous Expectation Maximization algorithm, we arrive at the following updates for l, p and q.\n",
    "  \n",
    "   $$\\mu_i = \\frac{l(p)^{x_i}(1-p)^{3-x_i}}{l(p)^{x_i}(1-p)^{3-x_i} + (1-l)(q)^{x_i}(1-q)^{3-x_i}}$$</br>\n",
    "  \n",
    "  $$l = \\frac{1}{n}\\sum_{i=1}^{i=n}\\mu_i$$<br/>\n",
    "  $$p = \\frac{1}{\\sum_{i=1}^{i=n}3\\mu_i}\\sum_1^nx_{i}\\mu_{i}$$\n",
    "  $$q = \\frac{1}{\\sum_{i=1}^{i=n}3(1-\\mu_i)}\\sum_{i=1}^{i=n}x_{i}(1-\\mu_{i})$$\n",
    "  \n",
    "  Note this method requires an initial guess for l, p and q.\n",
    "  "
   ]
  },
  {
   "cell_type": "markdown",
   "metadata": {},
   "source": [
    "To test an implementation of the EM algorithm for this problem, we need to have some type of synthetic data to run the algorithm on. The following code generates synthetic data given secret values of l, p and q."
   ]
  },
  {
   "cell_type": "code",
   "execution_count": null,
   "metadata": {
    "collapsed": true
   },
   "outputs": [],
   "source": [
    "#three coins problem\n",
    "def gen_coin_data(theta, num_samples):\n",
    " data = np.empty(num_samples,dtype = int)\n",
    " for i in xrange(num_samples):\n",
    "  if np.random.rand() < theta[0]:\n",
    "   data[i] = np.random.binomial(3,theta[1])\n",
    "  else:\n",
    "   data[i] = np.random.binomial(3,theta[2])\n",
    " return data\n",
    "\n"
   ]
  },
  {
   "cell_type": "markdown",
   "metadata": {},
   "source": [
    "The following code uses Expectation Maximization to recover the coin weights. Although this method is reasonably accurate, it is quite slow, and can be made much faster. "
   ]
  },
  {
   "cell_type": "code",
   "execution_count": 27,
   "metadata": {
    "collapsed": false
   },
   "outputs": [
    {
     "name": "stdout",
     "output_type": "stream",
     "text": [
      "Secret Parameters:  [0.5, 0.1, 0.7]\n",
      "Reconstructed paramters [0.51417776835171713, 0.10937623897551008, 0.71074249050870753]\n"
     ]
    }
   ],
   "source": [
    "secret_theta = [.5, .1, .7]\n",
    "data = gen_coin_data(secret_theta,20000)\n",
    "\n",
    "#do EM\n",
    "def solve_tri_coin(theta, data, iterations = 500):\n",
    " n = data.size\n",
    " for i in xrange(iterations):\n",
    "  l, p1, p2 = theta\n",
    "  temp1 = l * p1**data * (1-p1) ** (3-data)\n",
    "  temp2 = (1-l)* p2 ** data * (1-p2) ** (3-data)\n",
    "  mu = temp1/(temp1 + temp2)\n",
    "  musum = np.sum(mu)\n",
    "  l = musum / n\n",
    "  p1 = 1/musum * 1./3 * np.dot(data, mu)\n",
    "  p2 = 1/(n-musum) * 1./3 * np.dot(data, 1-mu)\n",
    "  theta_new = [l, p1, p2]\n",
    "  if sum([abs(theta[j]-theta_new[j]) for j in xrange(len(theta))]) < 1e-10:\n",
    "    return theta_new\n",
    "  theta = theta_new\n",
    " return theta\n",
    "\n",
    "print \"Secret Parameters: \",secret_theta\n",
    "print \"Reconstructed paramters\", solve_tri_coin([.5,.51,.52], data)"
   ]
  },
  {
   "cell_type": "markdown",
   "metadata": {},
   "source": [
    "Note that given l, p, and q, $\\mu_i$ only depends on $x_i$, the number of heads in the i-th experiment. As there are only 4 possibilities for $x_i$, many values of $\\mu_i$ are duplicate. The above code recomputes these values thousands of times over. The below code avoids such duplication and is many times faster. It does not require an initial guess, but instead tries a large number of random initial guesses and choses the most likely one. This approach avoids local minima and therefore improves accuracy."
   ]
  },
  {
   "cell_type": "code",
   "execution_count": 16,
   "metadata": {
    "collapsed": false
   },
   "outputs": [
    {
     "name": "stdout",
     "output_type": "stream",
     "text": [
      "Secret Parameters [0.6, 0.1, 0.7]\n",
      "Recovered Parameters [ 0.61342041  0.10530855  0.71046583]\n"
     ]
    }
   ],
   "source": [
    "secret_theta = [.6, .1, .7]\n",
    "data = gen_coin_data(secret_theta,20000)\n",
    "\n",
    "\n",
    "#Probability density function for bernoulli distribution with 3 trials\n",
    "P = lambda p, heads: (p)**heads*(1-p)**(3-heads) \n",
    "\n",
    "def tri_coin_likelihood(theta, data):\n",
    "  l, p, q = theta[0], theta[1], theta[2]\n",
    "  likelihood = 0\n",
    "  for heads in xrange(len(data)):\n",
    "   likelihood += data[heads] * np.log(l * P(p,heads) + (1-l) * P(q,heads))\n",
    "  return likelihood\n",
    "  \n",
    "def faster_tri_coin(theta, data, max_iters = 500):\n",
    "  heads = np.arange(4)\n",
    "  n = np.sum(data)\n",
    "  for _ in xrange(max_iters):\n",
    "   l, p, q = theta[0], theta[1], theta[2]\n",
    "   t1, t2 = l*P(p, heads), (1-l)*P(q, heads)\n",
    "   mu = data * t1/(t1 + t2)\n",
    "   musum = np.sum(mu)\n",
    "   l = musum / n\n",
    "   p = np.dot(heads, mu)/ (3*musum)\n",
    "   q = np.dot(heads, data-mu) / (3 *(n-musum))\n",
    "   theta = np.array([l, p, q])\n",
    "  return theta\n",
    "def smarter_tri_coin(data, nguesses = 50, max_iters = 100):\n",
    "  #We count the number of occurences of each number of heads\n",
    "  d = np.bincount(data)\n",
    "  maxl = -np.inf\n",
    "  best_theta = None\n",
    "  for _ in xrange(nguesses):\n",
    "    theta = np.random.random(3)\n",
    "    theta = faster_tri_coin(theta, d, max_iters)\n",
    "    likelihood = tri_coin_likelihood(theta, d)\n",
    "    if likelihood > maxl:\n",
    "     maxl = likelihood\n",
    "     best_theta = theta\n",
    "  return best_theta\n",
    " \n",
    "\n",
    "print \"Secret Parameters\", secret_theta\n",
    "print \"Recovered Parameters\", smarter_tri_coin(data,nguesses=100, max_iters = 100)\n"
   ]
  },
  {
   "cell_type": "markdown",
   "metadata": {},
   "source": [
    "The second problem we'll consider is the Gaussian micture model problem. Given an unknown probability distribution with density function D, we seek to write D as a convex combination of Gaussian density function. Formally, we seek $\\lambda$'s, $\\mu$'s, and $\\sigma$'s such that: $$D(x) = \\sum_{i=1}^{i=k}\\lambda_iP(X_i=x)$$\n",
    "where $X_i$ is normally distributed with mean $\\mu_i$ and variance $\\sigma_i^2$. This problem can be solved using Expectation Maximization. As with the three coin problem, an initial guess for all parameters is required, and we obtain update formulas for all of the paramters. I will omit these update formulas for the sake of brevity, but they can be found in <a href=\"http://www.cs.huji.ac.il/~shashua/papers/class4-5-EM.pdf\">this paper</a>, and are implemented below."
   ]
  },
  {
   "cell_type": "code",
   "execution_count": 28,
   "metadata": {
    "collapsed": false
   },
   "outputs": [
    {
     "data": {
      "image/png": "[encoded data removed]",
      "text/plain": [
       "<matplotlib.figure.Figure at 0x7f5fe15bee90>"
      ]
     },
     "metadata": {},
     "output_type": "display_data"
    }
   ],
   "source": [
    "%matplotlib inline\n",
    "import numpy as np\n",
    "import matplotlib.pyplot as plt\n",
    "\n",
    "\n",
    "\n",
    "def plot_gaussian_mixture(l, m ,s, legend=None):\n",
    " n = len(l)\n",
    " max_sigma = max(s)\n",
    " x = np.linspace(max(m)+3*max_sigma,min(m) - 3*max_sigma,300)\n",
    " y = np.zeros(x.size)\n",
    " for i in xrange(n):\n",
    "  y += l[i] * np.exp(-((x-m[i])/(np.sqrt(2)*s[i]))**2 ) / (s[i] * (2*np.pi)**.5)\n",
    " plt.plot(x,y, label = legend)\n",
    " \n",
    "\n",
    "\n",
    "def gaussian_data(lambdas, mus, sigmas, npoints):\n",
    " data = np.zeros(npoints)\n",
    " if abs(sum(lambdas)-1.) > 1e-14:\n",
    "  raise ValueError(\"Lambdas must sum to 1.\")\n",
    " draws = np.random.multinomial(npoints, lambdas)\n",
    " curr_ind = 0\n",
    " for i in xrange(len(lambdas)):\n",
    "  data[curr_ind:curr_ind+draws[i]] = np.random.normal(mus[i],sigmas[i], draws[i])\n",
    "  curr_ind += draws[i]\n",
    "  \n",
    " return data\n",
    "\n",
    "secret_lambda = [.3,.3,.4]\n",
    "secret_mu = [0.,1.,2.]\n",
    "secret_sigma = [1.,.5,.4]\n",
    "data = gaussian_data(secret_lambda, secret_mu, secret_sigma, 10000)\n",
    "\n",
    "def solve_gaussian_mixture(lambdas, mus, sigmas, data, iterations = 300):\n",
    " n = len(lambdas)\n",
    " m = data.size\n",
    " w_arr = np.empty((n,m))\n",
    " for _ in xrange(iterations):\n",
    "  #calculate w matrix \n",
    "  for j in xrange (n):\n",
    "   w_arr[j,:] =  lambdas[j]*np.exp(-((mus[j]-data)/(np.sqrt(2)*sigmas[j]))**2) / (sigmas[j]*(2*np.pi)**.5)\n",
    "  \n",
    "  w_arr = w_arr / np.sum(w_arr, axis = 0)\n",
    "  #print w_arr\n",
    "  w_sums = np.sum(w_arr, axis=1)\n",
    "\n",
    "  #perform update\n",
    "  lambdas = 1./m * w_sums\n",
    "  mus = w_arr.dot(data) / w_sums\n",
    "  for j in xrange(n):\n",
    "   sigmas[j] = np.sqrt(np.dot(w_arr[j,:], (data-mus[j])**2)/w_sums[j])  \n",
    "  \n",
    " return lambdas, mus, sigmas\n",
    "\n",
    "lambda_init = [.2,.4,.5]\n",
    "mus = [.1,.3,.4]\n",
    "sigmas = [.9,.7,.8]\n",
    "\n",
    "l, m, s = solve_gaussian_mixture(lambda_init, mus, sigmas, data)\n",
    "\n",
    "plot_gaussian_mixture(secret_lambda, secret_mu, secret_sigma,legend = \"Original\")\n",
    "plot_gaussian_mixture(l, m, s, legend = \"Reconstructed\")\n",
    "for i in xrange(len(l)):\n",
    "    plot_gaussian_mixture([l[i]], [m[i]], [s[i]], legend = \"Gaussian \"+str(i+1))\n",
    "plt.legend(loc = \"upper left\")\n",
    "plt.title(\"Original and EM-recovered distributions.\")\n",
    "plt.show()\n",
    " \n",
    "\n",
    "\n",
    "    "
   ]
  },
  {
   "cell_type": "markdown",
   "metadata": {},
   "source": [
    "Note that the original distribution is almost perfectly reconstructed by Expectation Maximization."
   ]
  }
 ],
 "metadata": {
  "kernelspec": {
   "display_name": "Python 2",
   "language": "python",
   "name": "python2"
  },
  "language_info": {
   "codemirror_mode": {
    "name": "ipython",
    "version": 2
   },
   "file_extension": ".py",
   "mimetype": "text/x-python",
   "name": "python",
   "nbconvert_exporter": "python",
   "pygments_lexer": "ipython2",
   "version": "2.7.10"
  }
 },
 "nbformat": 4,
 "nbformat_minor": 0
}
